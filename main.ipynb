{
 "cells": [
  {
   "cell_type": "code",
   "execution_count": 1,
   "id": "182ab63a",
   "metadata": {},
   "outputs": [],
   "source": [
    "import numpy as np \n",
    "import pandas as pd\n",
    "import matplotlib.pyplot as plt\n",
    "import seaborn as sns\n",
    "plt.style.use('fivethirtyeight')\n",
    "import warnings\n",
    "warnings.filterwarnings('ignore')\n",
    "%matplotlib inline"
   ]
  },
  {
   "cell_type": "markdown",
   "id": "e4f0d82a",
   "metadata": {},
   "source": [
    "Для начала загрузим наши тренировочные данные и проверим, что все нормально загрузилось"
   ]
  },
  {
   "cell_type": "code",
   "execution_count": 2,
   "id": "7410eb59",
   "metadata": {},
   "outputs": [
    {
     "data": {
      "text/html": [
       "<div>\n",
       "<style scoped>\n",
       "    .dataframe tbody tr th:only-of-type {\n",
       "        vertical-align: middle;\n",
       "    }\n",
       "\n",
       "    .dataframe tbody tr th {\n",
       "        vertical-align: top;\n",
       "    }\n",
       "\n",
       "    .dataframe thead th {\n",
       "        text-align: right;\n",
       "    }\n",
       "</style>\n",
       "<table border=\"1\" class=\"dataframe\">\n",
       "  <thead>\n",
       "    <tr style=\"text-align: right;\">\n",
       "      <th></th>\n",
       "      <th>PassengerId</th>\n",
       "      <th>Survived</th>\n",
       "      <th>Pclass</th>\n",
       "      <th>Name</th>\n",
       "      <th>Sex</th>\n",
       "      <th>Age</th>\n",
       "      <th>SibSp</th>\n",
       "      <th>Parch</th>\n",
       "      <th>Ticket</th>\n",
       "      <th>Fare</th>\n",
       "      <th>Cabin</th>\n",
       "      <th>Embarked</th>\n",
       "    </tr>\n",
       "  </thead>\n",
       "  <tbody>\n",
       "    <tr>\n",
       "      <th>0</th>\n",
       "      <td>1</td>\n",
       "      <td>0</td>\n",
       "      <td>3</td>\n",
       "      <td>Braund, Mr. Owen Harris</td>\n",
       "      <td>male</td>\n",
       "      <td>22.0</td>\n",
       "      <td>1</td>\n",
       "      <td>0</td>\n",
       "      <td>A/5 21171</td>\n",
       "      <td>7.2500</td>\n",
       "      <td>NaN</td>\n",
       "      <td>S</td>\n",
       "    </tr>\n",
       "    <tr>\n",
       "      <th>1</th>\n",
       "      <td>2</td>\n",
       "      <td>1</td>\n",
       "      <td>1</td>\n",
       "      <td>Cumings, Mrs. John Bradley (Florence Briggs Th...</td>\n",
       "      <td>female</td>\n",
       "      <td>38.0</td>\n",
       "      <td>1</td>\n",
       "      <td>0</td>\n",
       "      <td>PC 17599</td>\n",
       "      <td>71.2833</td>\n",
       "      <td>C85</td>\n",
       "      <td>C</td>\n",
       "    </tr>\n",
       "    <tr>\n",
       "      <th>2</th>\n",
       "      <td>3</td>\n",
       "      <td>1</td>\n",
       "      <td>3</td>\n",
       "      <td>Heikkinen, Miss. Laina</td>\n",
       "      <td>female</td>\n",
       "      <td>26.0</td>\n",
       "      <td>0</td>\n",
       "      <td>0</td>\n",
       "      <td>STON/O2. 3101282</td>\n",
       "      <td>7.9250</td>\n",
       "      <td>NaN</td>\n",
       "      <td>S</td>\n",
       "    </tr>\n",
       "    <tr>\n",
       "      <th>3</th>\n",
       "      <td>4</td>\n",
       "      <td>1</td>\n",
       "      <td>1</td>\n",
       "      <td>Futrelle, Mrs. Jacques Heath (Lily May Peel)</td>\n",
       "      <td>female</td>\n",
       "      <td>35.0</td>\n",
       "      <td>1</td>\n",
       "      <td>0</td>\n",
       "      <td>113803</td>\n",
       "      <td>53.1000</td>\n",
       "      <td>C123</td>\n",
       "      <td>S</td>\n",
       "    </tr>\n",
       "    <tr>\n",
       "      <th>4</th>\n",
       "      <td>5</td>\n",
       "      <td>0</td>\n",
       "      <td>3</td>\n",
       "      <td>Allen, Mr. William Henry</td>\n",
       "      <td>male</td>\n",
       "      <td>35.0</td>\n",
       "      <td>0</td>\n",
       "      <td>0</td>\n",
       "      <td>373450</td>\n",
       "      <td>8.0500</td>\n",
       "      <td>NaN</td>\n",
       "      <td>S</td>\n",
       "    </tr>\n",
       "  </tbody>\n",
       "</table>\n",
       "</div>"
      ],
      "text/plain": [
       "   PassengerId  Survived  Pclass  \\\n",
       "0            1         0       3   \n",
       "1            2         1       1   \n",
       "2            3         1       3   \n",
       "3            4         1       1   \n",
       "4            5         0       3   \n",
       "\n",
       "                                                Name     Sex   Age  SibSp  \\\n",
       "0                            Braund, Mr. Owen Harris    male  22.0      1   \n",
       "1  Cumings, Mrs. John Bradley (Florence Briggs Th...  female  38.0      1   \n",
       "2                             Heikkinen, Miss. Laina  female  26.0      0   \n",
       "3       Futrelle, Mrs. Jacques Heath (Lily May Peel)  female  35.0      1   \n",
       "4                           Allen, Mr. William Henry    male  35.0      0   \n",
       "\n",
       "   Parch            Ticket     Fare Cabin Embarked  \n",
       "0      0         A/5 21171   7.2500   NaN        S  \n",
       "1      0          PC 17599  71.2833   C85        C  \n",
       "2      0  STON/O2. 3101282   7.9250   NaN        S  \n",
       "3      0            113803  53.1000  C123        S  \n",
       "4      0            373450   8.0500   NaN        S  "
      ]
     },
     "execution_count": 2,
     "metadata": {},
     "output_type": "execute_result"
    }
   ],
   "source": [
    "df = pd.read_csv(\"data/train.csv\")\n",
    "df.head()"
   ]
  },
  {
   "cell_type": "markdown",
   "id": "dc89bf69",
   "metadata": {},
   "source": [
    "В самом начале решим самый первый вопрос, посмотрим и проанализируем пропущенные значения"
   ]
  },
  {
   "cell_type": "code",
   "execution_count": 3,
   "id": "352c5d1b",
   "metadata": {},
   "outputs": [
    {
     "data": {
      "text/plain": [
       "PassengerId      0\n",
       "Survived         0\n",
       "Pclass           0\n",
       "Name             0\n",
       "Sex              0\n",
       "Age            177\n",
       "SibSp            0\n",
       "Parch            0\n",
       "Ticket           0\n",
       "Fare             0\n",
       "Cabin          687\n",
       "Embarked         2\n",
       "dtype: int64"
      ]
     },
     "execution_count": 3,
     "metadata": {},
     "output_type": "execute_result"
    }
   ],
   "source": [
    "df.isnull().sum()"
   ]
  },
  {
   "cell_type": "markdown",
   "id": "e94dbf00",
   "metadata": {},
   "source": [
    "Очень много пропущенных значений в переменной Cabin, далее мы посмотрим насколько это важная информация и уже уберем эту переменную либо заполним её значениями  \n",
    "Также много пропущенных значений в поле Age, то есть возраст, это уже интуитивно можно понять, что довольно важная переменная, так что мы подумаем, что можно сделать с этим  \n",
    "И всего 2 пропущенных значения в поле Embarked, либо удалим эти объекты, либо заполним медианным значением"
   ]
  },
  {
   "cell_type": "markdown",
   "id": "00407d7a",
   "metadata": {},
   "source": [
    "Посмотрим нашу таргетную переменную, насколько у нас сильный дисбаланс классов, между теми, кто выжил и теми, кто нет"
   ]
  },
  {
   "cell_type": "code",
   "execution_count": 4,
   "id": "05f92f40",
   "metadata": {},
   "outputs": [
    {
     "data": {
      "text/plain": [
       "<Axes: xlabel='Survived'>"
      ]
     },
     "execution_count": 4,
     "metadata": {},
     "output_type": "execute_result"
    },
    {
     "data": {
      "image/png": "[encoded data removed]",
      "text/plain": [
       "<Figure size 600x400 with 2 Axes>"
      ]
     },
     "metadata": {},
     "output_type": "display_data"
    }
   ],
   "source": [
    "f,ax=plt.subplots(1,2,figsize=(6,4))\n",
    "df['Survived'].value_counts().plot.pie(ax=ax[0], autopct=\"%1.1f%%\")\n",
    "df['Survived'].value_counts().plot.bar(ax=ax[1])\n"
   ]
  },
  {
   "cell_type": "markdown",
   "id": "839b5cd9",
   "metadata": {},
   "source": [
    "Можно увидеть, что погибло ~62% пассажиров или же чуть больше 500 человек, а выжило ~38% или же чуть более 300 человек  \n",
    "Дисбаланс классов есть, но он не такой прям сильный"
   ]
  },
  {
   "cell_type": "code",
   "execution_count": 5,
   "id": "3dbfd320",
   "metadata": {},
   "outputs": [
    {
     "data": {
      "text/plain": [
       "<Axes: xlabel='Sex', ylabel='count'>"
      ]
     },
     "execution_count": 5,
     "metadata": {},
     "output_type": "execute_result"
    },
    {
     "data": {
      "image/png": "[encoded data removed]",
      "text/plain": [
       "<Figure size 1200x400 with 3 Axes>"
      ]
     },
     "metadata": {},
     "output_type": "display_data"
    }
   ],
   "source": [
    "f,ax=plt.subplots(1,3,figsize=(12,4))\n",
    "df[df[\"Sex\"]== \"female\"]['Survived'].value_counts().plot.pie(ax=ax[0], autopct=\"%1.1f%%\", title = \"female\")\n",
    "df[df[\"Sex\"]== \"male\"]['Survived'].value_counts().plot.pie(ax=ax[1], autopct=\"%1.1f%%\", title = 'male')\n",
    "sns.countplot(x = \"Sex\", hue = \"Survived\", data=df, ax= ax[2])"
   ]
  },
  {
   "cell_type": "markdown",
   "id": "ea81beeb",
   "metadata": {},
   "source": [
    "Можно увидеть, что у женщин шанс выжить в разы и разы больше чем у мужчины из любого класса, то есть это одна из самых важных переменных будет  \n",
    "У нас получается почти 75% женщин выжили, когда в то же время почти 82% мужчин погибли, очень выгодно было быть женщиной, хотя женщин и в целом было меньше, чем мужчин\n",
    "если брать обую статистику, то женщин спаслось в 2 раза больше чем мужчин"
   ]
  },
  {
   "cell_type": "code",
   "execution_count": 6,
   "id": "a93f4bdd",
   "metadata": {},
   "outputs": [
    {
     "data": {
      "text/html": [
       "<style type=\"text/css\">\n",
       "#T_a8856_row0_col0, #T_a8856_row1_col1 {\n",
       "  background-color: #008066;\n",
       "  color: #f1f1f1;\n",
       "}\n",
       "#T_a8856_row0_col1, #T_a8856_row2_col0 {\n",
       "  background-color: #ffff66;\n",
       "  color: #000000;\n",
       "}\n",
       "#T_a8856_row1_col0 {\n",
       "  background-color: #0e8666;\n",
       "  color: #f1f1f1;\n",
       "}\n",
       "#T_a8856_row2_col1 {\n",
       "  background-color: #a7d366;\n",
       "  color: #000000;\n",
       "}\n",
       "</style>\n",
       "<table id=\"T_a8856\">\n",
       "  <thead>\n",
       "    <tr>\n",
       "      <th class=\"index_name level0\" >Survived</th>\n",
       "      <th id=\"T_a8856_level0_col0\" class=\"col_heading level0 col0\" >0</th>\n",
       "      <th id=\"T_a8856_level0_col1\" class=\"col_heading level0 col1\" >1</th>\n",
       "    </tr>\n",
       "    <tr>\n",
       "      <th class=\"index_name level0\" >Pclass</th>\n",
       "      <th class=\"blank col0\" >&nbsp;</th>\n",
       "      <th class=\"blank col1\" >&nbsp;</th>\n",
       "    </tr>\n",
       "  </thead>\n",
       "  <tbody>\n",
       "    <tr>\n",
       "      <th id=\"T_a8856_level0_row0\" class=\"row_heading level0 row0\" >1</th>\n",
       "      <td id=\"T_a8856_row0_col0\" class=\"data row0 col0\" >80</td>\n",
       "      <td id=\"T_a8856_row0_col1\" class=\"data row0 col1\" >136</td>\n",
       "    </tr>\n",
       "    <tr>\n",
       "      <th id=\"T_a8856_level0_row1\" class=\"row_heading level0 row1\" >2</th>\n",
       "      <td id=\"T_a8856_row1_col0\" class=\"data row1 col0\" >97</td>\n",
       "      <td id=\"T_a8856_row1_col1\" class=\"data row1 col1\" >87</td>\n",
       "    </tr>\n",
       "    <tr>\n",
       "      <th id=\"T_a8856_level0_row2\" class=\"row_heading level0 row2\" >3</th>\n",
       "      <td id=\"T_a8856_row2_col0\" class=\"data row2 col0\" >372</td>\n",
       "      <td id=\"T_a8856_row2_col1\" class=\"data row2 col1\" >119</td>\n",
       "    </tr>\n",
       "  </tbody>\n",
       "</table>\n"
      ],
      "text/plain": [
       "<pandas.io.formats.style.Styler at 0x246919334d0>"
      ]
     },
     "execution_count": 6,
     "metadata": {},
     "output_type": "execute_result"
    }
   ],
   "source": [
    "pd.crosstab(df.Pclass, df.Survived).style.background_gradient(cmap=\"summer\")"
   ]
  },
  {
   "cell_type": "code",
   "execution_count": 7,
   "id": "b98ea713",
   "metadata": {},
   "outputs": [
    {
     "data": {
      "text/plain": [
       "<Axes: ylabel='count'>"
      ]
     },
     "execution_count": 7,
     "metadata": {},
     "output_type": "execute_result"
    },
    {
     "data": {
      "image/png": "[encoded data removed]",
      "text/plain": [
       "<Figure size 1200x400 with 3 Axes>"
      ]
     },
     "metadata": {},
     "output_type": "display_data"
    }
   ],
   "source": [
    "f,ax=plt.subplots(1,3,figsize=(12,4))\n",
    "df['Pclass'].value_counts().plot.bar(ax = ax[0])\n",
    "sns.countplot(x = \"Pclass\", hue = \"Survived\", data = df, ax=ax[1])\n",
    "df[\"Pclass\"].value_counts().plot.pie(autopct=\"%1.1f%%\", ax = ax[2])"
   ]
  },
  {
   "cell_type": "markdown",
   "id": "6cd5dfa3",
   "metadata": {},
   "source": [
    "Также можно увидеть, что больше всего спаслось людей из первого класса, и поигбло там меньше всего, учитывая, что во второй классе было людей процентно даже меньше, чем в 1, то в 1 все равно больше людей спаслось"
   ]
  },
  {
   "cell_type": "code",
   "execution_count": 8,
   "id": "05e1cfb5",
   "metadata": {},
   "outputs": [
    {
     "data": {
      "text/plain": [
       "<seaborn.axisgrid.FacetGrid at 0x2468f6fc590>"
      ]
     },
     "execution_count": 8,
     "metadata": {},
     "output_type": "execute_result"
    },
    {
     "data": {
      "image/png": "[encoded data removed]",
      "text/plain": [
       "<Figure size 901.181x400 with 2 Axes>"
      ]
     },
     "metadata": {},
     "output_type": "display_data"
    }
   ],
   "source": [
    "sns.catplot(x=\"Pclass\",hue=\"Survived\",col=\"Sex\",kind=\"count\",data=df,height=4,aspect=1)"
   ]
  },
  {
   "cell_type": "markdown",
   "id": "8d43a5cf",
   "metadata": {},
   "source": [
    "И если чуть больше копнуть можно увидеть, что у женщин из 1 класса вероятность выжить почти 100%  \n",
    "Ниже можно увидеть это на цифрах"
   ]
  },
  {
   "cell_type": "code",
   "execution_count": 9,
   "id": "46454220",
   "metadata": {},
   "outputs": [
    {
     "data": {
      "text/html": [
       "<style type=\"text/css\">\n",
       "#T_ff2ce_row0_col0, #T_ff2ce_row0_col1, #T_ff2ce_row3_col2 {\n",
       "  background-color: #008066;\n",
       "  color: #f1f1f1;\n",
       "}\n",
       "#T_ff2ce_row0_col2, #T_ff2ce_row1_col2 {\n",
       "  background-color: #198c66;\n",
       "  color: #f1f1f1;\n",
       "}\n",
       "#T_ff2ce_row1_col0, #T_ff2ce_row2_col1, #T_ff2ce_row2_col2 {\n",
       "  background-color: #ffff66;\n",
       "  color: #000000;\n",
       "}\n",
       "#T_ff2ce_row1_col1 {\n",
       "  background-color: #c0e066;\n",
       "  color: #000000;\n",
       "}\n",
       "#T_ff2ce_row2_col0 {\n",
       "  background-color: #d7eb66;\n",
       "  color: #000000;\n",
       "}\n",
       "#T_ff2ce_row3_col0 {\n",
       "  background-color: #7abc66;\n",
       "  color: #000000;\n",
       "}\n",
       "#T_ff2ce_row3_col1 {\n",
       "  background-color: #219066;\n",
       "  color: #f1f1f1;\n",
       "}\n",
       "</style>\n",
       "<table id=\"T_ff2ce\">\n",
       "  <thead>\n",
       "    <tr>\n",
       "      <th class=\"blank\" >&nbsp;</th>\n",
       "      <th class=\"index_name level0\" >Pclass</th>\n",
       "      <th id=\"T_ff2ce_level0_col0\" class=\"col_heading level0 col0\" >1</th>\n",
       "      <th id=\"T_ff2ce_level0_col1\" class=\"col_heading level0 col1\" >2</th>\n",
       "      <th id=\"T_ff2ce_level0_col2\" class=\"col_heading level0 col2\" >3</th>\n",
       "    </tr>\n",
       "    <tr>\n",
       "      <th class=\"index_name level0\" >Sex</th>\n",
       "      <th class=\"index_name level1\" >Survived</th>\n",
       "      <th class=\"blank col0\" >&nbsp;</th>\n",
       "      <th class=\"blank col1\" >&nbsp;</th>\n",
       "      <th class=\"blank col2\" >&nbsp;</th>\n",
       "    </tr>\n",
       "  </thead>\n",
       "  <tbody>\n",
       "    <tr>\n",
       "      <th id=\"T_ff2ce_level0_row0\" class=\"row_heading level0 row0\" rowspan=\"2\">female</th>\n",
       "      <th id=\"T_ff2ce_level1_row0\" class=\"row_heading level1 row0\" >0</th>\n",
       "      <td id=\"T_ff2ce_row0_col0\" class=\"data row0 col0\" >3</td>\n",
       "      <td id=\"T_ff2ce_row0_col1\" class=\"data row0 col1\" >6</td>\n",
       "      <td id=\"T_ff2ce_row0_col2\" class=\"data row0 col2\" >72</td>\n",
       "    </tr>\n",
       "    <tr>\n",
       "      <th id=\"T_ff2ce_level1_row1\" class=\"row_heading level1 row1\" >1</th>\n",
       "      <td id=\"T_ff2ce_row1_col0\" class=\"data row1 col0\" >91</td>\n",
       "      <td id=\"T_ff2ce_row1_col1\" class=\"data row1 col1\" >70</td>\n",
       "      <td id=\"T_ff2ce_row1_col2\" class=\"data row1 col2\" >72</td>\n",
       "    </tr>\n",
       "    <tr>\n",
       "      <th id=\"T_ff2ce_level0_row2\" class=\"row_heading level0 row2\" rowspan=\"2\">male</th>\n",
       "      <th id=\"T_ff2ce_level1_row2\" class=\"row_heading level1 row2\" >0</th>\n",
       "      <td id=\"T_ff2ce_row2_col0\" class=\"data row2 col0\" >77</td>\n",
       "      <td id=\"T_ff2ce_row2_col1\" class=\"data row2 col1\" >91</td>\n",
       "      <td id=\"T_ff2ce_row2_col2\" class=\"data row2 col2\" >300</td>\n",
       "    </tr>\n",
       "    <tr>\n",
       "      <th id=\"T_ff2ce_level1_row3\" class=\"row_heading level1 row3\" >1</th>\n",
       "      <td id=\"T_ff2ce_row3_col0\" class=\"data row3 col0\" >45</td>\n",
       "      <td id=\"T_ff2ce_row3_col1\" class=\"data row3 col1\" >17</td>\n",
       "      <td id=\"T_ff2ce_row3_col2\" class=\"data row3 col2\" >47</td>\n",
       "    </tr>\n",
       "  </tbody>\n",
       "</table>\n"
      ],
      "text/plain": [
       "<pandas.io.formats.style.Styler at 0x24691e691d0>"
      ]
     },
     "execution_count": 9,
     "metadata": {},
     "output_type": "execute_result"
    }
   ],
   "source": [
    "pd.crosstab([df.Sex, df.Survived], df.Pclass).style.background_gradient(cmap='summer')"
   ]
  },
  {
   "cell_type": "markdown",
   "id": "4b8626db",
   "metadata": {},
   "source": [
    "На основе наших графиков мы можем предположить, что класс, тоже очень важная переменная, потому что у женщин уровень выживаемости стремится почти к 100, а мужчины, хоть и все равно не хочешь хорошо выживают, но статистически больше чем в других классах, что в 2, что тем более в 3  "
   ]
  },
  {
   "cell_type": "markdown",
   "id": "43bbf8ba",
   "metadata": {},
   "source": [
    "Далее переменная, которую мы рассмотрим это возраст, потому что интуитивно, она тоже будет очень сильно влиять на выживаемость, старики будут иметь процент выживаемости сильно меньше, чем молодые или тем более дети"
   ]
  },
  {
   "cell_type": "code",
   "execution_count": 10,
   "id": "8804fedb",
   "metadata": {},
   "outputs": [
    {
     "name": "stdout",
     "output_type": "stream",
     "text": [
      "Самый старый пассажир: 80.0 лет\n",
      "Самый иолодой пассажир: 0.42 лет\n",
      "Средний возраст пассажиров: 29.7 лет\n"
     ]
    }
   ],
   "source": [
    "print(f'Самый старый пассажир: {df['Age'].max()} лет')\n",
    "print(f'Самый иолодой пассажир: {df['Age'].min()} лет')\n",
    "print(f'Средний возраст пассажиров: {df['Age'].mean():.1f} лет')"
   ]
  },
  {
   "cell_type": "code",
   "execution_count": 11,
   "id": "28664d3b",
   "metadata": {},
   "outputs": [
    {
     "data": {
      "text/plain": [
       "<seaborn.axisgrid.FacetGrid at 0x24692242fd0>"
      ]
     },
     "execution_count": 11,
     "metadata": {},
     "output_type": "execute_result"
    },
    {
     "data": {
      "image/png": "[encoded data removed]",
      "text/plain": [
       "<Figure size 800x1200 with 6 Axes>"
      ]
     },
     "metadata": {},
     "output_type": "display_data"
    }
   ],
   "source": [
    "sns.FacetGrid(df, row=\"Pclass\", col='Sex', height=4).map(plt.hist, \"Age\", bins = 20, edgecolor = \"black\")"
   ]
  },
  {
   "cell_type": "markdown",
   "id": "7ca7ec1c",
   "metadata": {},
   "source": [
    "Выше можно посмотреть на распределение по возрасту, видно, что самые старые ехали в 3 классе, а среднее по всем возрастам примерно 30-50 лет"
   ]
  },
  {
   "cell_type": "markdown",
   "id": "086cebe1",
   "metadata": {},
   "source": [
    "Далее мы будем заполнять пропущенные значения в Age и я подсмотрел в данном контексте очень интересный способ, мы по инициалам будем определять примерный возраст в пропущенных значениях  \n",
    "Но вообще обычно это делается с помощью mean, mode, median, если вообще прям по простому, если более сложные методы использовать то это KNNImputer, IterativeImputer или просто удаляем значения"
   ]
  },
  {
   "cell_type": "code",
   "execution_count": 12,
   "id": "08a586b3",
   "metadata": {},
   "outputs": [],
   "source": [
    "df['Initial']=0\n",
    "for i in df:\n",
    "    df['Initial']=df.Name.str.extract('([A-Za-z]+)\\.') #lets extract the Salutations\n",
    "df['Initial'].replace(['Mlle','Mme','Ms','Dr','Major','Lady','Countess','Jonkheer','Col','Rev','Capt','Sir','Don'],['Miss','Miss','Miss','Mr','Mr','Mrs','Mrs','Other','Other','Other','Mr','Mr','Mr'],inplace=True)"
   ]
  },
  {
   "cell_type": "code",
   "execution_count": 13,
   "id": "ab44e605",
   "metadata": {},
   "outputs": [
    {
     "data": {
      "text/plain": [
       "Initial\n",
       "Master     4.574167\n",
       "Miss      21.860000\n",
       "Mr        32.739609\n",
       "Mrs       35.981818\n",
       "Other     45.888889\n",
       "Name: Age, dtype: float64"
      ]
     },
     "execution_count": 13,
     "metadata": {},
     "output_type": "execute_result"
    }
   ],
   "source": [
    "df.groupby('Initial')['Age'].mean()"
   ]
  },
  {
   "cell_type": "markdown",
   "id": "09cfcd5f",
   "metadata": {},
   "source": [
    "Мы можем увидеть, что у каждого инициала есть свой конкретный средний возраст, причем они довольно сильно отличаются  \n",
    "Master это чаще всего дети, причем такие 0-15 лет  \n",
    "Miss - Молодые девушки  \n",
    "Mr - Мужчина средних лет  \n",
    "Mrs - Женщина средних лет  \n",
    "Other - это те у кого нет инициалов, скорее всего большинство 3 класс, поэтому средний возраст такой большой, около 46 лет"
   ]
  },
  {
   "cell_type": "code",
   "execution_count": 14,
   "id": "c3dbb295",
   "metadata": {},
   "outputs": [],
   "source": [
    "df.loc[(df.Age.isnull())&(df.Initial=='Mr'),'Age']=33\n",
    "df.loc[(df.Age.isnull())&(df.Initial=='Mrs'),'Age']=36\n",
    "df.loc[(df.Age.isnull())&(df.Initial=='Master'),'Age']=5\n",
    "df.loc[(df.Age.isnull())&(df.Initial=='Miss'),'Age']=22\n",
    "df.loc[(df.Age.isnull())&(df.Initial=='Other'),'Age']=46"
   ]
  },
  {
   "cell_type": "code",
   "execution_count": 15,
   "id": "24dfdb11",
   "metadata": {},
   "outputs": [
    {
     "data": {
      "text/plain": [
       "PassengerId      0\n",
       "Survived         0\n",
       "Pclass           0\n",
       "Name             0\n",
       "Sex              0\n",
       "Age              0\n",
       "SibSp            0\n",
       "Parch            0\n",
       "Ticket           0\n",
       "Fare             0\n",
       "Cabin          687\n",
       "Embarked         2\n",
       "Initial          0\n",
       "dtype: int64"
      ]
     },
     "execution_count": 15,
     "metadata": {},
     "output_type": "execute_result"
    }
   ],
   "source": [
    "df.isnull().sum()"
   ]
  },
  {
   "cell_type": "markdown",
   "id": "804df738",
   "metadata": {},
   "source": [
    "Далее рассмотрим переменную Embarked, то есть порт в котором сели пассажиры, у нас всего пропущенно 2 значения, так что заполним их просто самым популярным значением"
   ]
  },
  {
   "cell_type": "code",
   "execution_count": 16,
   "id": "f37fafd1",
   "metadata": {},
   "outputs": [
    {
     "data": {
      "text/plain": [
       "<Axes: xlabel='Embarked'>"
      ]
     },
     "execution_count": 16,
     "metadata": {},
     "output_type": "execute_result"
    },
    {
     "data": {
      "image/png": "[encoded data removed]",
      "text/plain": [
       "<Figure size 640x480 with 1 Axes>"
      ]
     },
     "metadata": {},
     "output_type": "display_data"
    }
   ],
   "source": [
    "df[\"Embarked\"].value_counts().plot.bar()"
   ]
  },
  {
   "cell_type": "code",
   "execution_count": 17,
   "id": "5b207531",
   "metadata": {},
   "outputs": [],
   "source": [
    "df[\"Embarked\"].fillna('S', inplace=True)"
   ]
  },
  {
   "cell_type": "markdown",
   "id": "8e6dc26a",
   "metadata": {},
   "source": [
    "И все-таки выкинем ненужные нам переменные, PassengerId она будет только мешаться, модели могут начать привязываться к этой переменной, то же самое относится и к Ticket это случайный номер билета, который по факту ни на что не влиял, модель может начать привязываться к случайным вещам в билете, и фичу Cabin я тоже выкину, потому что во-первых у нас нет 75% информации, да и к тому же я считаю, что это не очень важная информация, потому что скорее всего кабины не было у людей 3 класса, но у нас и так есть информация по классам"
   ]
  },
  {
   "cell_type": "code",
   "execution_count": 18,
   "id": "2e992b98",
   "metadata": {},
   "outputs": [
    {
     "name": "stdout",
     "output_type": "stream",
     "text": [
      "<class 'pandas.core.frame.DataFrame'>\n",
      "RangeIndex: 891 entries, 0 to 890\n",
      "Data columns (total 9 columns):\n",
      " #   Column    Non-Null Count  Dtype  \n",
      "---  ------    --------------  -----  \n",
      " 0   Survived  891 non-null    int64  \n",
      " 1   Pclass    891 non-null    int64  \n",
      " 2   Sex       891 non-null    object \n",
      " 3   Age       891 non-null    float64\n",
      " 4   SibSp     891 non-null    int64  \n",
      " 5   Parch     891 non-null    int64  \n",
      " 6   Fare      891 non-null    float64\n",
      " 7   Embarked  891 non-null    object \n",
      " 8   Initial   891 non-null    object \n",
      "dtypes: float64(2), int64(4), object(3)\n",
      "memory usage: 62.8+ KB\n"
     ]
    }
   ],
   "source": [
    "df.drop(columns=['Cabin', 'PassengerId', \"Ticket\", \"Name\"], inplace = True)\n",
    "df.info()"
   ]
  },
  {
   "cell_type": "markdown",
   "id": "44df774c",
   "metadata": {},
   "source": [
    "Далее рассмотрим сразу две переменные SibSp (Sibling - Сестры, братья, Spouse - Муж, жена), Parch (Родители, дети на борту)  \n",
    "Я бы просто рассматривал это как семью в общем"
   ]
  },
  {
   "cell_type": "code",
   "execution_count": 19,
   "id": "73ac71ad",
   "metadata": {},
   "outputs": [
    {
     "data": {
      "text/html": [
       "<style type=\"text/css\">\n",
       "#T_81f6e_row0_col0, #T_81f6e_row0_col1 {\n",
       "  background-color: #ffff66;\n",
       "  color: #000000;\n",
       "}\n",
       "#T_81f6e_row1_col0 {\n",
       "  background-color: #3b9d66;\n",
       "  color: #f1f1f1;\n",
       "}\n",
       "#T_81f6e_row1_col1 {\n",
       "  background-color: #88c366;\n",
       "  color: #000000;\n",
       "}\n",
       "#T_81f6e_row2_col0, #T_81f6e_row4_col0 {\n",
       "  background-color: #068266;\n",
       "  color: #f1f1f1;\n",
       "}\n",
       "#T_81f6e_row2_col1 {\n",
       "  background-color: #0f8766;\n",
       "  color: #f1f1f1;\n",
       "}\n",
       "#T_81f6e_row3_col0, #T_81f6e_row3_col1 {\n",
       "  background-color: #048266;\n",
       "  color: #f1f1f1;\n",
       "}\n",
       "#T_81f6e_row4_col1 {\n",
       "  background-color: #038166;\n",
       "  color: #f1f1f1;\n",
       "}\n",
       "#T_81f6e_row5_col0, #T_81f6e_row5_col1, #T_81f6e_row6_col1 {\n",
       "  background-color: #008066;\n",
       "  color: #f1f1f1;\n",
       "}\n",
       "#T_81f6e_row6_col0 {\n",
       "  background-color: #018066;\n",
       "  color: #f1f1f1;\n",
       "}\n",
       "</style>\n",
       "<table id=\"T_81f6e\">\n",
       "  <thead>\n",
       "    <tr>\n",
       "      <th class=\"index_name level0\" >Survived</th>\n",
       "      <th id=\"T_81f6e_level0_col0\" class=\"col_heading level0 col0\" >0</th>\n",
       "      <th id=\"T_81f6e_level0_col1\" class=\"col_heading level0 col1\" >1</th>\n",
       "    </tr>\n",
       "    <tr>\n",
       "      <th class=\"index_name level0\" >SibSp</th>\n",
       "      <th class=\"blank col0\" >&nbsp;</th>\n",
       "      <th class=\"blank col1\" >&nbsp;</th>\n",
       "    </tr>\n",
       "  </thead>\n",
       "  <tbody>\n",
       "    <tr>\n",
       "      <th id=\"T_81f6e_level0_row0\" class=\"row_heading level0 row0\" >0</th>\n",
       "      <td id=\"T_81f6e_row0_col0\" class=\"data row0 col0\" >398</td>\n",
       "      <td id=\"T_81f6e_row0_col1\" class=\"data row0 col1\" >210</td>\n",
       "    </tr>\n",
       "    <tr>\n",
       "      <th id=\"T_81f6e_level0_row1\" class=\"row_heading level0 row1\" >1</th>\n",
       "      <td id=\"T_81f6e_row1_col0\" class=\"data row1 col0\" >97</td>\n",
       "      <td id=\"T_81f6e_row1_col1\" class=\"data row1 col1\" >112</td>\n",
       "    </tr>\n",
       "    <tr>\n",
       "      <th id=\"T_81f6e_level0_row2\" class=\"row_heading level0 row2\" >2</th>\n",
       "      <td id=\"T_81f6e_row2_col0\" class=\"data row2 col0\" >15</td>\n",
       "      <td id=\"T_81f6e_row2_col1\" class=\"data row2 col1\" >13</td>\n",
       "    </tr>\n",
       "    <tr>\n",
       "      <th id=\"T_81f6e_level0_row3\" class=\"row_heading level0 row3\" >3</th>\n",
       "      <td id=\"T_81f6e_row3_col0\" class=\"data row3 col0\" >12</td>\n",
       "      <td id=\"T_81f6e_row3_col1\" class=\"data row3 col1\" >4</td>\n",
       "    </tr>\n",
       "    <tr>\n",
       "      <th id=\"T_81f6e_level0_row4\" class=\"row_heading level0 row4\" >4</th>\n",
       "      <td id=\"T_81f6e_row4_col0\" class=\"data row4 col0\" >15</td>\n",
       "      <td id=\"T_81f6e_row4_col1\" class=\"data row4 col1\" >3</td>\n",
       "    </tr>\n",
       "    <tr>\n",
       "      <th id=\"T_81f6e_level0_row5\" class=\"row_heading level0 row5\" >5</th>\n",
       "      <td id=\"T_81f6e_row5_col0\" class=\"data row5 col0\" >5</td>\n",
       "      <td id=\"T_81f6e_row5_col1\" class=\"data row5 col1\" >0</td>\n",
       "    </tr>\n",
       "    <tr>\n",
       "      <th id=\"T_81f6e_level0_row6\" class=\"row_heading level0 row6\" >8</th>\n",
       "      <td id=\"T_81f6e_row6_col0\" class=\"data row6 col0\" >7</td>\n",
       "      <td id=\"T_81f6e_row6_col1\" class=\"data row6 col1\" >0</td>\n",
       "    </tr>\n",
       "  </tbody>\n",
       "</table>\n"
      ],
      "text/plain": [
       "<pandas.io.formats.style.Styler at 0x24693b7d450>"
      ]
     },
     "execution_count": 19,
     "metadata": {},
     "output_type": "execute_result"
    }
   ],
   "source": [
    "pd.crosstab(df.SibSp, df.Survived).style.background_gradient(cmap=\"summer\")"
   ]
  },
  {
   "cell_type": "code",
   "execution_count": 20,
   "id": "b044c2a9",
   "metadata": {},
   "outputs": [
    {
     "data": {
      "text/plain": [
       "<Axes: xlabel='Survived'>"
      ]
     },
     "execution_count": 20,
     "metadata": {},
     "output_type": "execute_result"
    },
    {
     "data": {
      "image/png": "[encoded data removed]",
      "text/plain": [
       "<Figure size 640x480 with 1 Axes>"
      ]
     },
     "metadata": {},
     "output_type": "display_data"
    }
   ],
   "source": [
    "sns.barplot(x = \"Survived\", hue = \"SibSp\", data = df)"
   ]
  },
  {
   "cell_type": "code",
   "execution_count": 21,
   "id": "a473b358",
   "metadata": {},
   "outputs": [
    {
     "data": {
      "text/html": [
       "<style type=\"text/css\">\n",
       "#T_2494e_row0_col0, #T_2494e_row0_col1 {\n",
       "  background-color: #ffff66;\n",
       "  color: #000000;\n",
       "}\n",
       "#T_2494e_row1_col0 {\n",
       "  background-color: #1d8e66;\n",
       "  color: #f1f1f1;\n",
       "}\n",
       "#T_2494e_row1_col1 {\n",
       "  background-color: #47a366;\n",
       "  color: #f1f1f1;\n",
       "}\n",
       "#T_2494e_row2_col0 {\n",
       "  background-color: #168a66;\n",
       "  color: #f1f1f1;\n",
       "}\n",
       "#T_2494e_row2_col1 {\n",
       "  background-color: #2b9566;\n",
       "  color: #f1f1f1;\n",
       "}\n",
       "#T_2494e_row3_col0, #T_2494e_row4_col1, #T_2494e_row6_col0, #T_2494e_row6_col1 {\n",
       "  background-color: #008066;\n",
       "  color: #f1f1f1;\n",
       "}\n",
       "#T_2494e_row3_col1 {\n",
       "  background-color: #038166;\n",
       "  color: #f1f1f1;\n",
       "}\n",
       "#T_2494e_row4_col0, #T_2494e_row5_col0, #T_2494e_row5_col1 {\n",
       "  background-color: #018066;\n",
       "  color: #f1f1f1;\n",
       "}\n",
       "</style>\n",
       "<table id=\"T_2494e\">\n",
       "  <thead>\n",
       "    <tr>\n",
       "      <th class=\"index_name level0\" >Survived</th>\n",
       "      <th id=\"T_2494e_level0_col0\" class=\"col_heading level0 col0\" >0</th>\n",
       "      <th id=\"T_2494e_level0_col1\" class=\"col_heading level0 col1\" >1</th>\n",
       "    </tr>\n",
       "    <tr>\n",
       "      <th class=\"index_name level0\" >Parch</th>\n",
       "      <th class=\"blank col0\" >&nbsp;</th>\n",
       "      <th class=\"blank col1\" >&nbsp;</th>\n",
       "    </tr>\n",
       "  </thead>\n",
       "  <tbody>\n",
       "    <tr>\n",
       "      <th id=\"T_2494e_level0_row0\" class=\"row_heading level0 row0\" >0</th>\n",
       "      <td id=\"T_2494e_row0_col0\" class=\"data row0 col0\" >445</td>\n",
       "      <td id=\"T_2494e_row0_col1\" class=\"data row0 col1\" >233</td>\n",
       "    </tr>\n",
       "    <tr>\n",
       "      <th id=\"T_2494e_level0_row1\" class=\"row_heading level0 row1\" >1</th>\n",
       "      <td id=\"T_2494e_row1_col0\" class=\"data row1 col0\" >53</td>\n",
       "      <td id=\"T_2494e_row1_col1\" class=\"data row1 col1\" >65</td>\n",
       "    </tr>\n",
       "    <tr>\n",
       "      <th id=\"T_2494e_level0_row2\" class=\"row_heading level0 row2\" >2</th>\n",
       "      <td id=\"T_2494e_row2_col0\" class=\"data row2 col0\" >40</td>\n",
       "      <td id=\"T_2494e_row2_col1\" class=\"data row2 col1\" >40</td>\n",
       "    </tr>\n",
       "    <tr>\n",
       "      <th id=\"T_2494e_level0_row3\" class=\"row_heading level0 row3\" >3</th>\n",
       "      <td id=\"T_2494e_row3_col0\" class=\"data row3 col0\" >2</td>\n",
       "      <td id=\"T_2494e_row3_col1\" class=\"data row3 col1\" >3</td>\n",
       "    </tr>\n",
       "    <tr>\n",
       "      <th id=\"T_2494e_level0_row4\" class=\"row_heading level0 row4\" >4</th>\n",
       "      <td id=\"T_2494e_row4_col0\" class=\"data row4 col0\" >4</td>\n",
       "      <td id=\"T_2494e_row4_col1\" class=\"data row4 col1\" >0</td>\n",
       "    </tr>\n",
       "    <tr>\n",
       "      <th id=\"T_2494e_level0_row5\" class=\"row_heading level0 row5\" >5</th>\n",
       "      <td id=\"T_2494e_row5_col0\" class=\"data row5 col0\" >4</td>\n",
       "      <td id=\"T_2494e_row5_col1\" class=\"data row5 col1\" >1</td>\n",
       "    </tr>\n",
       "    <tr>\n",
       "      <th id=\"T_2494e_level0_row6\" class=\"row_heading level0 row6\" >6</th>\n",
       "      <td id=\"T_2494e_row6_col0\" class=\"data row6 col0\" >1</td>\n",
       "      <td id=\"T_2494e_row6_col1\" class=\"data row6 col1\" >0</td>\n",
       "    </tr>\n",
       "  </tbody>\n",
       "</table>\n"
      ],
      "text/plain": [
       "<pandas.io.formats.style.Styler at 0x246940d0410>"
      ]
     },
     "execution_count": 21,
     "metadata": {},
     "output_type": "execute_result"
    }
   ],
   "source": [
    "pd.crosstab(df.Parch, df.Survived).style.background_gradient(cmap=\"summer\")\n"
   ]
  },
  {
   "cell_type": "code",
   "execution_count": 22,
   "id": "c032566f",
   "metadata": {},
   "outputs": [
    {
     "data": {
      "text/plain": [
       "<Axes: xlabel='Survived'>"
      ]
     },
     "execution_count": 22,
     "metadata": {},
     "output_type": "execute_result"
    },
    {
     "data": {
      "image/png": "[encoded data removed]",
      "text/plain": [
       "<Figure size 640x480 with 1 Axes>"
      ]
     },
     "metadata": {},
     "output_type": "display_data"
    }
   ],
   "source": [
    "sns.barplot(x = \"Survived\", hue = \"Parch\", data = df)"
   ]
  },
  {
   "cell_type": "markdown",
   "id": "68a8314c",
   "metadata": {},
   "source": [
    "Статистически можно увидеть, что люди, у которых 1 SibSp или 1-4 Parch выживали с большей вероятностью, чем те, кто ехали один, но при этом при 6 Parch выживаемость сильно падала или >2 SibSp"
   ]
  },
  {
   "cell_type": "code",
   "execution_count": 23,
   "id": "01a63bf2",
   "metadata": {},
   "outputs": [],
   "source": [
    "from sklearn.model_selection import train_test_split\n",
    "from sklearn.ensemble import RandomForestClassifier\n",
    "from sklearn.linear_model import LogisticRegression\n",
    "from sklearn.tree import DecisionTreeClassifier\n",
    "from sklearn.neighbors import KNeighborsClassifier\n",
    "from sklearn import metrics\n",
    "\n",
    "from sklearn.preprocessing import LabelEncoder\n",
    "from catboost import CatBoostClassifier\n",
    "from xgboost import XGBClassifier"
   ]
  },
  {
   "cell_type": "code",
   "execution_count": 24,
   "id": "fac29229",
   "metadata": {},
   "outputs": [
    {
     "data": {
      "text/html": [
       "<div>\n",
       "<style scoped>\n",
       "    .dataframe tbody tr th:only-of-type {\n",
       "        vertical-align: middle;\n",
       "    }\n",
       "\n",
       "    .dataframe tbody tr th {\n",
       "        vertical-align: top;\n",
       "    }\n",
       "\n",
       "    .dataframe thead th {\n",
       "        text-align: right;\n",
       "    }\n",
       "</style>\n",
       "<table border=\"1\" class=\"dataframe\">\n",
       "  <thead>\n",
       "    <tr style=\"text-align: right;\">\n",
       "      <th></th>\n",
       "      <th>Survived</th>\n",
       "      <th>Pclass</th>\n",
       "      <th>Sex</th>\n",
       "      <th>Age</th>\n",
       "      <th>SibSp</th>\n",
       "      <th>Parch</th>\n",
       "      <th>Fare</th>\n",
       "      <th>Embarked</th>\n",
       "      <th>Initial</th>\n",
       "    </tr>\n",
       "  </thead>\n",
       "  <tbody>\n",
       "    <tr>\n",
       "      <th>0</th>\n",
       "      <td>0</td>\n",
       "      <td>3</td>\n",
       "      <td>male</td>\n",
       "      <td>22.0</td>\n",
       "      <td>1</td>\n",
       "      <td>0</td>\n",
       "      <td>7.2500</td>\n",
       "      <td>S</td>\n",
       "      <td>Mr</td>\n",
       "    </tr>\n",
       "    <tr>\n",
       "      <th>1</th>\n",
       "      <td>1</td>\n",
       "      <td>1</td>\n",
       "      <td>female</td>\n",
       "      <td>38.0</td>\n",
       "      <td>1</td>\n",
       "      <td>0</td>\n",
       "      <td>71.2833</td>\n",
       "      <td>C</td>\n",
       "      <td>Mrs</td>\n",
       "    </tr>\n",
       "    <tr>\n",
       "      <th>2</th>\n",
       "      <td>1</td>\n",
       "      <td>3</td>\n",
       "      <td>female</td>\n",
       "      <td>26.0</td>\n",
       "      <td>0</td>\n",
       "      <td>0</td>\n",
       "      <td>7.9250</td>\n",
       "      <td>S</td>\n",
       "      <td>Miss</td>\n",
       "    </tr>\n",
       "    <tr>\n",
       "      <th>3</th>\n",
       "      <td>1</td>\n",
       "      <td>1</td>\n",
       "      <td>female</td>\n",
       "      <td>35.0</td>\n",
       "      <td>1</td>\n",
       "      <td>0</td>\n",
       "      <td>53.1000</td>\n",
       "      <td>S</td>\n",
       "      <td>Mrs</td>\n",
       "    </tr>\n",
       "    <tr>\n",
       "      <th>4</th>\n",
       "      <td>0</td>\n",
       "      <td>3</td>\n",
       "      <td>male</td>\n",
       "      <td>35.0</td>\n",
       "      <td>0</td>\n",
       "      <td>0</td>\n",
       "      <td>8.0500</td>\n",
       "      <td>S</td>\n",
       "      <td>Mr</td>\n",
       "    </tr>\n",
       "    <tr>\n",
       "      <th>...</th>\n",
       "      <td>...</td>\n",
       "      <td>...</td>\n",
       "      <td>...</td>\n",
       "      <td>...</td>\n",
       "      <td>...</td>\n",
       "      <td>...</td>\n",
       "      <td>...</td>\n",
       "      <td>...</td>\n",
       "      <td>...</td>\n",
       "    </tr>\n",
       "    <tr>\n",
       "      <th>886</th>\n",
       "      <td>0</td>\n",
       "      <td>2</td>\n",
       "      <td>male</td>\n",
       "      <td>27.0</td>\n",
       "      <td>0</td>\n",
       "      <td>0</td>\n",
       "      <td>13.0000</td>\n",
       "      <td>S</td>\n",
       "      <td>Other</td>\n",
       "    </tr>\n",
       "    <tr>\n",
       "      <th>887</th>\n",
       "      <td>1</td>\n",
       "      <td>1</td>\n",
       "      <td>female</td>\n",
       "      <td>19.0</td>\n",
       "      <td>0</td>\n",
       "      <td>0</td>\n",
       "      <td>30.0000</td>\n",
       "      <td>S</td>\n",
       "      <td>Miss</td>\n",
       "    </tr>\n",
       "    <tr>\n",
       "      <th>888</th>\n",
       "      <td>0</td>\n",
       "      <td>3</td>\n",
       "      <td>female</td>\n",
       "      <td>22.0</td>\n",
       "      <td>1</td>\n",
       "      <td>2</td>\n",
       "      <td>23.4500</td>\n",
       "      <td>S</td>\n",
       "      <td>Miss</td>\n",
       "    </tr>\n",
       "    <tr>\n",
       "      <th>889</th>\n",
       "      <td>1</td>\n",
       "      <td>1</td>\n",
       "      <td>male</td>\n",
       "      <td>26.0</td>\n",
       "      <td>0</td>\n",
       "      <td>0</td>\n",
       "      <td>30.0000</td>\n",
       "      <td>C</td>\n",
       "      <td>Mr</td>\n",
       "    </tr>\n",
       "    <tr>\n",
       "      <th>890</th>\n",
       "      <td>0</td>\n",
       "      <td>3</td>\n",
       "      <td>male</td>\n",
       "      <td>32.0</td>\n",
       "      <td>0</td>\n",
       "      <td>0</td>\n",
       "      <td>7.7500</td>\n",
       "      <td>Q</td>\n",
       "      <td>Mr</td>\n",
       "    </tr>\n",
       "  </tbody>\n",
       "</table>\n",
       "<p>891 rows × 9 columns</p>\n",
       "</div>"
      ],
      "text/plain": [
       "     Survived  Pclass     Sex   Age  SibSp  Parch     Fare Embarked Initial\n",
       "0           0       3    male  22.0      1      0   7.2500        S      Mr\n",
       "1           1       1  female  38.0      1      0  71.2833        C     Mrs\n",
       "2           1       3  female  26.0      0      0   7.9250        S    Miss\n",
       "3           1       1  female  35.0      1      0  53.1000        S     Mrs\n",
       "4           0       3    male  35.0      0      0   8.0500        S      Mr\n",
       "..        ...     ...     ...   ...    ...    ...      ...      ...     ...\n",
       "886         0       2    male  27.0      0      0  13.0000        S   Other\n",
       "887         1       1  female  19.0      0      0  30.0000        S    Miss\n",
       "888         0       3  female  22.0      1      2  23.4500        S    Miss\n",
       "889         1       1    male  26.0      0      0  30.0000        C      Mr\n",
       "890         0       3    male  32.0      0      0   7.7500        Q      Mr\n",
       "\n",
       "[891 rows x 9 columns]"
      ]
     },
     "execution_count": 24,
     "metadata": {},
     "output_type": "execute_result"
    }
   ],
   "source": [
    "df"
   ]
  },
  {
   "cell_type": "code",
   "execution_count": 25,
   "id": "ce9b2c7b",
   "metadata": {},
   "outputs": [],
   "source": [
    "df_test = pd.read_csv(\"data/test.csv\")\n",
    "df_test.drop(columns=[\"PassengerId\", \"Cabin\", \"Ticket\"], inplace = True)"
   ]
  },
  {
   "cell_type": "code",
   "execution_count": 26,
   "id": "ff5dbd9c",
   "metadata": {},
   "outputs": [],
   "source": [
    "df_test['Initial']=0\n",
    "for i in df_test:\n",
    "    df_test['Initial']=df_test.Name.str.extract('([A-Za-z]+)\\.') #lets extract the Salutations\n",
    "df_test['Initial'].replace(['Mlle','Mme','Ms','Dr','Major','Lady','Countess','Jonkheer','Col','Rev','Capt','Sir','Don','Dona'],['Miss','Miss','Miss','Mr','Mr','Mrs','Mrs','Other','Other','Other','Mr','Mr','Mr', 'Miss'],inplace=True)\n",
    "\n",
    "df_test.loc[(df_test.Age.isnull())&(df_test.Initial=='Mr'),'Age']=33\n",
    "df_test.loc[(df_test.Age.isnull())&(df_test.Initial=='Mrs'),'Age']=36\n",
    "df_test.loc[(df_test.Age.isnull())&(df_test.Initial=='Master'),'Age']=5\n",
    "df_test.loc[(df_test.Age.isnull())&(df_test.Initial=='Miss'),'Age']=22\n",
    "df_test.loc[(df_test.Age.isnull())&(df_test.Initial=='Other'),'Age']=46\n",
    "\n",
    "df_test.drop(columns=[\"Name\"], inplace = True)"
   ]
  },
  {
   "cell_type": "code",
   "execution_count": 27,
   "id": "8c224a42",
   "metadata": {},
   "outputs": [],
   "source": [
    "le = LabelEncoder()\n",
    "df[\"Sex\"] = le.fit_transform(df[\"Sex\"])\n",
    "df_test[\"Sex\"] = le.transform(df_test[\"Sex\"])\n",
    "df['Embarked'] = le.fit_transform(df[\"Embarked\"])\n",
    "df_test[\"Embarked\"] = le.transform(df_test[\"Embarked\"]) \n",
    "df['Initial'] = le.fit_transform(df[\"Initial\"])\n",
    "df_test[\"Initial\"] = le.transform(df_test[\"Initial\"])"
   ]
  },
  {
   "cell_type": "code",
   "execution_count": 28,
   "id": "728d4749",
   "metadata": {},
   "outputs": [],
   "source": [
    "train,test=train_test_split(df,test_size=0.3,random_state=42)"
   ]
  },
  {
   "cell_type": "code",
   "execution_count": 29,
   "id": "f563cc85",
   "metadata": {},
   "outputs": [],
   "source": [
    "train_x, train_y = train.drop(columns=['Survived']), train[\"Survived\"]\n",
    "test_x, test_y = test.drop(columns = [\"Survived\"]), test[\"Survived\"]"
   ]
  },
  {
   "cell_type": "code",
   "execution_count": 30,
   "id": "cf50344c",
   "metadata": {},
   "outputs": [
    {
     "name": "stdout",
     "output_type": "stream",
     "text": [
      "Точность для логистической регрессии: 0.8134328358208955\n"
     ]
    }
   ],
   "source": [
    "model = LogisticRegression()\n",
    "model.fit(train_x, train_y)\n",
    "pred = model.predict(test_x)\n",
    "\n",
    "print(f\"Точность для логистической регрессии: {metrics.accuracy_score(pred, test_y)}\")"
   ]
  },
  {
   "cell_type": "code",
   "execution_count": 31,
   "id": "69792f94",
   "metadata": {},
   "outputs": [
    {
     "name": "stdout",
     "output_type": "stream",
     "text": [
      "Точность для ближайших соседей: 0.7201492537313433\n"
     ]
    }
   ],
   "source": [
    "model = KNeighborsClassifier()\n",
    "model.fit(train_x, train_y)\n",
    "pred = model.predict(test_x)\n",
    "\n",
    "print(f\"Точность для ближайших соседей: {metrics.accuracy_score(pred, test_y)}\")"
   ]
  },
  {
   "cell_type": "code",
   "execution_count": 32,
   "id": "33f480c5",
   "metadata": {},
   "outputs": [
    {
     "name": "stdout",
     "output_type": "stream",
     "text": [
      "Точность для решающего дерева: 0.7761194029850746\n"
     ]
    }
   ],
   "source": [
    "model = DecisionTreeClassifier()\n",
    "model.fit(train_x, train_y)\n",
    "pred = model.predict(test_x)\n",
    "\n",
    "print(f\"Точность для решающего дерева: {metrics.accuracy_score(pred, test_y)}\")"
   ]
  },
  {
   "cell_type": "code",
   "execution_count": 33,
   "id": "88d42961",
   "metadata": {},
   "outputs": [
    {
     "name": "stdout",
     "output_type": "stream",
     "text": [
      "Точность для решающего леса: 0.8022388059701493\n"
     ]
    }
   ],
   "source": [
    "model = RandomForestClassifier()\n",
    "model.fit(train_x, train_y)\n",
    "pred = model.predict(test_x)\n",
    "\n",
    "print(f\"Точность для решающего леса: {metrics.accuracy_score(pred, test_y)}\")"
   ]
  },
  {
   "cell_type": "code",
   "execution_count": 34,
   "id": "8e570c12",
   "metadata": {},
   "outputs": [
    {
     "name": "stdout",
     "output_type": "stream",
     "text": [
      "Точность для XGBClassifier: 0.7910447761194029\n"
     ]
    }
   ],
   "source": [
    "model = XGBClassifier()\n",
    "model.fit(train_x, train_y)\n",
    "pred = model.predict(test_x)\n",
    "\n",
    "print(f\"Точность для XGBClassifier: {metrics.accuracy_score(pred, test_y)}\")"
   ]
  },
  {
   "cell_type": "code",
   "execution_count": null,
   "id": "0adb1633",
   "metadata": {},
   "outputs": [
    {
     "name": "stdout",
     "output_type": "stream",
     "text": [
      "Точность для CatBoostClassifier: 0.8246268656716418\n"
     ]
    }
   ],
   "source": [
    "from catboost import Pool\n",
    "cat_features = ['Sex', 'Embarked', 'Initial']\n",
    "train_pool = Pool(train_x, train_y, cat_features=cat_features)\n",
    "test_pool = Pool(test_x, cat_features=cat_features)\n",
    "\n",
    "model = CatBoostClassifier(verbose = 0)\n",
    "\n",
    "model.fit(train_pool)\n",
    "train_pred = model.predict(test_pool)\n",
    "\n",
    "\n",
    "\n",
    "print(f\"Точность для CatBoostClassifier: {metrics.accuracy_score(train_pred, test_y)}\")"
   ]
  },
  {
   "cell_type": "code",
   "execution_count": 36,
   "id": "2ecd8673",
   "metadata": {},
   "outputs": [
    {
     "name": "stdout",
     "output_type": "stream",
     "text": [
      "Recall: 0.8555555555555555\n",
      "Precision: 0.6936936936936937\n",
      "F1-score: 0.7661691542288557\n"
     ]
    }
   ],
   "source": [
    "from sklearn.metrics import (\n",
    "    recall_score,\n",
    "    precision_score,\n",
    "    f1_score,\n",
    "    roc_auc_score,\n",
    "    confusion_matrix,\n",
    ")\n",
    "\n",
    "print(f\"Recall: {recall_score(train_pred,test_y)}\")\n",
    "print(f\"Precision: {precision_score(train_pred,test_y)}\")\n",
    "print(f\"F1-score: {f1_score(train_pred,test_y)}\")"
   ]
  },
  {
   "cell_type": "code",
   "execution_count": 37,
   "id": "e2c749ce",
   "metadata": {},
   "outputs": [],
   "source": [
    "submission = pd.read_csv('data/gender_submission.csv')\n",
    "test_df = Pool(df_test, cat_features=cat_features)\n",
    "test_pred = model.predict(test_df)"
   ]
  },
  {
   "cell_type": "code",
   "execution_count": 39,
   "id": "a5c3c34d",
   "metadata": {},
   "outputs": [],
   "source": [
    "submission = pd.DataFrame({\n",
    "    'PassengerId': submission['PassengerId'],\n",
    "    'Survived': test_pred\n",
    "})"
   ]
  },
  {
   "cell_type": "code",
   "execution_count": 42,
   "id": "2208b62a",
   "metadata": {},
   "outputs": [],
   "source": [
    "submission.to_csv(\"submission.csv\", index=False)"
   ]
  }
 ],
 "metadata": {
  "kernelspec": {
   "display_name": "venv",
   "language": "python",
   "name": "python3"
  },
  "language_info": {
   "codemirror_mode": {
    "name": "ipython",
    "version": 3
   },
   "file_extension": ".py",
   "mimetype": "text/x-python",
   "name": "python",
   "nbconvert_exporter": "python",
   "pygments_lexer": "ipython3",
   "version": "3.13.5"
  }
 },
 "nbformat": 4,
 "nbformat_minor": 5
}
